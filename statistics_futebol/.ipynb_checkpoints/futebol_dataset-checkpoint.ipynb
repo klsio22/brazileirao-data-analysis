{
 "cells": [
  {
   "cell_type": "code",
   "execution_count": null,
   "metadata": {
    "vscode": {
     "languageId": "plaintext"
    }
   },
   "outputs": [],
   "source": [
    "from pymongo import MongoClient\n",
    "import pandas as pd\n",
    "\n",
    "client = MongoClient(\"mongodb://127.0.0.1:27017/\")\n",
    "db = client['futebol']  # Nome do banco de dados em que os dados foram importados\n",
    "collection = db['estatisticas'] \n",
    "\n",
    "\n"
   ]
  }
 ],
 "metadata": {
  "language_info": {
   "name": "python"
  }
 },
 "nbformat": 4,
 "nbformat_minor": 2
}
