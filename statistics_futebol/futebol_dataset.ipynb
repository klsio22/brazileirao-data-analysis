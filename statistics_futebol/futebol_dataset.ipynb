{
 "cells": [
  {
   "cell_type": "code",
   "execution_count": 1,
   "metadata": {
    "vscode": {
     "languageId": "plaintext"
    }
   },
   "outputs": [
    {
     "name": "stdout",
     "output_type": "stream",
     "text": [
      "Total de documentos inseridos: 53025\n",
      "Documentos do tipo cartoes: 18857\n",
      "Documentos do tipo estatisticas: 16810\n",
      "Documentos do tipo brasileirao: 8405\n",
      "Documentos do tipo gols: 8932\n",
      "Documentos do tipo json: 21\n"
     ]
    }
   ],
   "source": [
    "from pymongo import MongoClient\n",
    "import pandas as pd\n",
    "import json\n",
    "from pathlib import Path\n",
    "\n",
    "def conectar_mongodb():\n",
    "    client = MongoClient(\"mongodb://127.0.0.1:27017/\")\n",
    "    db = client['statistics_futebol']\n",
    "    return db['futebol']\n",
    "\n",
    "def carregar_csv():\n",
    "    datasets = {\n",
    "        'cartoes': pd.read_csv('csv/campeonato-brasileiro-cartoes.csv'),\n",
    "        'estatisticas': pd.read_csv('csv/campeonato-brasileiro-estatisticas-full.csv'),\n",
    "        'brasileirao': pd.read_csv('csv/campeonato-brasileiro-full.csv'),\n",
    "        'gols': pd.read_csv('csv/campeonato-brasileiro-gols.csv')\n",
    "    }\n",
    "    return datasets\n",
    "\n",
    "def carregar_json():\n",
    "    dados_json = {}\n",
    "    for ano in range(2003, 2024):  # Atualizando para incluir todos os anos até 2023\n",
    "        try:\n",
    "            arquivo = f'data/brasileirao-{ano}.json'\n",
    "            with open(arquivo, 'r', encoding='utf-8') as f:\n",
    "                dados_json[ano] = json.load(f)\n",
    "        except FileNotFoundError:\n",
    "            print(f\"Arquivo do ano {ano} não encontrado\")\n",
    "    return dados_json\n",
    "\n",
    "def inserir_dados(collection, datasets, dados_json):\n",
    "    # Limpa a coleção antes de inserir novos dados\n",
    "    collection.delete_many({})\n",
    "    \n",
    "    # Inserindo dados CSV\n",
    "    for nome, df in datasets.items():\n",
    "        documentos = df.to_dict('records')\n",
    "        for doc in documentos:\n",
    "            doc['tipo'] = nome  # Adiciona um campo para identificar o tipo de dado\n",
    "        collection.insert_many(documentos)\n",
    "    \n",
    "    # Inserindo dados JSON\n",
    "    for ano, dados in dados_json.items():\n",
    "        collection.insert_one({\n",
    "            'tipo': 'json',\n",
    "            'ano': ano,\n",
    "            'dados': dados\n",
    "        })\n",
    "\n",
    "def main():\n",
    "    # Conectar ao MongoDB\n",
    "    collection = conectar_mongodb()\n",
    "    \n",
    "    # Carregar dados\n",
    "    datasets = carregar_csv()\n",
    "    dados_json = carregar_json()\n",
    "    \n",
    "    # Inserir dados\n",
    "    inserir_dados(collection, datasets, dados_json)\n",
    "    \n",
    "    # Verificar inserção\n",
    "    total_documentos = collection.count_documents({})\n",
    "    print(f\"Total de documentos inseridos: {total_documentos}\")\n",
    "    \n",
    "    # Mostrar contagem por tipo\n",
    "    for tipo in ['cartoes', 'estatisticas', 'brasileirao', 'gols', 'json']:\n",
    "        count = collection.count_documents({'tipo': tipo})\n",
    "        print(f\"Documentos do tipo {tipo}: {count}\")\n",
    "\n",
    "if __name__ == \"__main__\":\n",
    "    main()"
   ]
  },
  {
   "cell_type": "code",
   "execution_count": null,
   "metadata": {},
   "outputs": [],
   "source": []
  }
 ],
 "metadata": {
  "kernelspec": {
   "display_name": "Python 3 (ipykernel)",
   "language": "python",
   "name": "python3"
  },
  "language_info": {
   "codemirror_mode": {
    "name": "ipython",
    "version": 3
   },
   "file_extension": ".py",
   "mimetype": "text/x-python",
   "name": "python",
   "nbconvert_exporter": "python",
   "pygments_lexer": "ipython3",
   "version": "3.10.12"
  }
 },
 "nbformat": 4,
 "nbformat_minor": 4
}
