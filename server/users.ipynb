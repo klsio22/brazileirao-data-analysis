{
 "cells": [
  {
   "cell_type": "code",
   "execution_count": 7,
   "id": "6c6142db",
   "metadata": {},
   "outputs": [
    {
     "name": "stdout",
     "output_type": "stream",
     "text": [
      "Criação bem-sucedida: {'id': '67983b819877a00fb59a1ae2'}\n",
      "\n",
      "Listagem completa: [{'age': 30, 'email': 'john@example.com', 'id': '679834392b44cc052d6e79e3', 'name': 'John Doe'}, {'age': 30, 'email': 'fulano@exemplo.com', 'id': '67983b819877a00fb59a1ae2', 'name': 'Fulano de Tal'}]\n",
      "\n",
      "Detalhes do usuário: {'_id': '67983b819877a00fb59a1ae2', 'age': 30, 'email': 'fulano@exemplo.com', 'name': 'Fulano de Tal'}\n",
      "\n",
      "Exclusão: {'status': 'User deleted'}\n"
     ]
    }
   ],
   "source": [
    "import requests\n",
    "\n",
    "BASE_URL = \"http://localhost:5001/users\"\n",
    "\n",
    "def test_api():\n",
    "    try:\n",
    "        # Criar novo usuário\n",
    "        new_user = {\n",
    "            \"name\": \"Fulano de Tal\",\n",
    "            \"email\": \"fulano@exemplo.com\",\n",
    "            \"age\": 30\n",
    "        }\n",
    "        create_response = requests.post(BASE_URL, json=new_user)\n",
    "        create_data = create_response.json()\n",
    "        \n",
    "        if create_response.status_code != 201:\n",
    "            print(\"Erro na criação:\", create_data)\n",
    "            return\n",
    "\n",
    "        print(\"Criação bem-sucedida:\", create_data)\n",
    "        user_id = create_data['id']\n",
    "\n",
    "        # Ver listagem completa\n",
    "        list_response = requests.get(BASE_URL)\n",
    "        print(\"\\nListagem completa:\", list_response.json())\n",
    "\n",
    "        # Ver usuário específico\n",
    "        detail_response = requests.get(f\"{BASE_URL}/{user_id}\")\n",
    "        print(\"\\nDetalhes do usuário:\", detail_response.json())\n",
    "\n",
    "        # Limpeza (opcional)\n",
    "        delete_response = requests.delete(f\"{BASE_URL}/{user_id}\")\n",
    "        print(\"\\nExclusão:\", delete_response.json())\n",
    "\n",
    "    except requests.exceptions.ConnectionError:\n",
    "        print(\"Erro: Verifique se a API está rodando na porta 5001\")\n",
    "    except KeyError as e:\n",
    "        print(f\"Erro de estrutura JSON: Chave {e} não encontrada na resposta\")\n",
    "    except Exception as e:\n",
    "        print(f\"Erro inesperado: {str(e)}\")\n",
    "\n",
    "test_api()"
   ]
  }
 ],
 "metadata": {
  "kernelspec": {
   "display_name": "Python 3 (ipykernel)",
   "language": "python",
   "name": "python3"
  },
  "language_info": {
   "codemirror_mode": {
    "name": "ipython",
    "version": 3
   },
   "file_extension": ".py",
   "mimetype": "text/x-python",
   "name": "python",
   "nbconvert_exporter": "python",
   "pygments_lexer": "ipython3",
   "version": "3.10.12"
  }
 },
 "nbformat": 4,
 "nbformat_minor": 5
}
