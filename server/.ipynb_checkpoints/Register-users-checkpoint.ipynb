{
 "cells": [
  {
   "cell_type": "code",
   "execution_count": 2,
   "id": "6c6142db",
   "metadata": {},
   "outputs": [
    {
     "name": "stdout",
     "output_type": "stream",
     "text": [
      " * Serving Flask app '__main__'\n",
      " * Debug mode: on\n"
     ]
    },
    {
     "name": "stderr",
     "output_type": "stream",
     "text": [
      "WARNING: This is a development server. Do not use it in a production deployment. Use a production WSGI server instead.\n",
      " * Running on http://127.0.0.1:5001\n",
      "Press CTRL+C to quit\n",
      " * Restarting with stat\n",
      "Traceback (most recent call last):\n",
      "  File \"/usr/lib/python3.10/runpy.py\", line 196, in _run_module_as_main\n",
      "    return _run_code(code, main_globals, None,\n",
      "  File \"/usr/lib/python3.10/runpy.py\", line 86, in _run_code\n",
      "    exec(code, run_globals)\n",
      "  File \"/home/klsio27/.local/lib/python3.10/site-packages/ipykernel_launcher.py\", line 18, in <module>\n",
      "    app.launch_new_instance()\n",
      "  File \"/home/klsio27/.local/lib/python3.10/site-packages/traitlets/config/application.py\", line 1074, in launch_instance\n",
      "    app.initialize(argv)\n",
      "  File \"/home/klsio27/.local/lib/python3.10/site-packages/traitlets/config/application.py\", line 118, in inner\n",
      "    return method(app, *args, **kwargs)\n",
      "  File \"/home/klsio27/.local/lib/python3.10/site-packages/ipykernel/kernelapp.py\", line 692, in initialize\n",
      "    self.init_sockets()\n",
      "  File \"/home/klsio27/.local/lib/python3.10/site-packages/ipykernel/kernelapp.py\", line 331, in init_sockets\n",
      "    self.shell_port = self._bind_socket(self.shell_socket, self.shell_port)\n",
      "  File \"/home/klsio27/.local/lib/python3.10/site-packages/ipykernel/kernelapp.py\", line 253, in _bind_socket\n",
      "    return self._try_bind_socket(s, port)\n",
      "  File \"/home/klsio27/.local/lib/python3.10/site-packages/ipykernel/kernelapp.py\", line 229, in _try_bind_socket\n",
      "    s.bind(\"tcp://%s:%i\" % (self.ip, port))\n",
      "  File \"/home/klsio27/.local/lib/python3.10/site-packages/zmq/sugar/socket.py\", line 311, in bind\n",
      "    super().bind(addr)\n",
      "  File \"_zmq.py\", line 917, in zmq.backend.cython._zmq.Socket.bind\n",
      "  File \"_zmq.py\", line 179, in zmq.backend.cython._zmq._check_rc\n",
      "zmq.error.ZMQError: Address already in use (addr='tcp://127.0.0.1:39855')\n"
     ]
    },
    {
     "ename": "SystemExit",
     "evalue": "1",
     "output_type": "error",
     "traceback": [
      "An exception has occurred, use %tb to see the full traceback.\n",
      "\u001b[0;31mSystemExit\u001b[0m\u001b[0;31m:\u001b[0m 1\n"
     ]
    }
   ],
   "source": [
    "from flask import Flask, request, jsonify\n",
    "from pymongo import MongoClient\n",
    "from bson.objectid import ObjectId\n",
    "import os\n",
    "from dotenv import load_dotenv\n",
    "\n",
    "load_dotenv()\n",
    "\n",
    "app = Flask(__name__)\n",
    "\n",
    "# Conectar ao MongoDB\n",
    "# Configurar a conexão com o MongoDB\n",
    "conn = \"mongodb://127.0.0.1:27017/\"  # Certifique-se de que o MongoDB está rodando localmente\n",
    "client = MongoClient(conn)\n",
    "\n",
    "# Especificar o banco de dados e a coleção\n",
    "db = client['users']  # Nome do banco de dados\n",
    "users_collection = db['users_db']  # Nome da coleção\n",
    "\n",
    "# Criar um usuário\n",
    "@app.route('/users', methods=['POST'])\n",
    "def create_user():\n",
    "    data = request.get_json()\n",
    "    result = users_collection.insert_one(data)\n",
    "    return jsonify({'id': str(result.inserted_id)}), 201\n",
    "\n",
    "# Ler todos os usuários\n",
    "@app.route('/users', methods=['GET'])\n",
    "def get_users():\n",
    "    users = list(users_collection.find())\n",
    "    for user in users:\n",
    "        user['_id'] = str(user['_id'])\n",
    "    return jsonify(users), 200\n",
    "\n",
    "# Ler um usuário por ID\n",
    "@app.route('/users/<id>', methods=['GET'])\n",
    "def get_user(id):\n",
    "    try:\n",
    "        user = users_collection.find_one({'_id': ObjectId(id)})\n",
    "        if user:\n",
    "            user['_id'] = str(user['_id'])\n",
    "            return jsonify(user), 200\n",
    "        else:\n",
    "            return jsonify({'error': 'User not found'}), 404\n",
    "    except Exception as e:\n",
    "        return jsonify({'error': str(e)}), 400\n",
    "\n",
    "# Atualizar um usuário\n",
    "@app.route('/users/<id>', methods=['PUT'])\n",
    "def update_user(id):\n",
    "    data = request.get_json()\n",
    "    try:\n",
    "        result = users_collection.update_one({'_id': ObjectId(id)}, {'$set': data})\n",
    "        if result.modified_count:\n",
    "            return jsonify({'status': 'User updated'}), 200\n",
    "        else:\n",
    "            return jsonify({'error': 'User not found'}), 404\n",
    "    except Exception as e:\n",
    "        return jsonify({'error': str(e)}), 400\n",
    "\n",
    "# Deletar um usuário\n",
    "@app.route('/users/<id>', methods=['DELETE'])\n",
    "def delete_user(id):\n",
    "    try:\n",
    "        result = users_collection.delete_one({'_id': ObjectId(id)})\n",
    "        if result.deleted_count:\n",
    "            return jsonify({'status': 'User deleted'}), 200\n",
    "        else:\n",
    "            return jsonify({'error': 'User not found'}), 404\n",
    "    except Exception as e:\n",
    "        return jsonify({'error': str(e)}), 400\n",
    "\n",
    "if __name__ == '__main__':\n",
    "    app.run(debug=True, port=5001)"
   ]
  },
  {
   "cell_type": "code",
   "execution_count": null,
   "id": "b3a9c4b1",
   "metadata": {},
   "outputs": [],
   "source": []
  }
 ],
 "metadata": {
  "kernelspec": {
   "display_name": "Python 3 (ipykernel)",
   "language": "python",
   "name": "python3"
  },
  "language_info": {
   "codemirror_mode": {
    "name": "ipython",
    "version": 3
   },
   "file_extension": ".py",
   "mimetype": "text/x-python",
   "name": "python",
   "nbconvert_exporter": "python",
   "pygments_lexer": "ipython3",
   "version": "3.10.12"
  }
 },
 "nbformat": 4,
 "nbformat_minor": 5
}
